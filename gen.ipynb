{
 "cells": [
  {
   "cell_type": "code",
   "execution_count": 105,
   "metadata": {},
   "outputs": [],
   "source": [
    "import imgaug as ia\n",
    "import numpy as np\n",
    "from PIL import Image\n",
    "import cv2 as cv\n",
    "from imgaug import augmenters as iaa\n",
    "import numpy as np\n",
    "from random import randint, uniform, shuffle\n",
    "import glob"
   ]
  },
  {
   "cell_type": "code",
   "execution_count": 106,
   "metadata": {},
   "outputs": [],
   "source": [
    "def xy_to_yolo_bbox(img, augmented_bbox):\n",
    "    # x_center y_center width height\n",
    "    \n",
    "    abs_width = augmented_bbox.x2 - augmented_bbox.x1\n",
    "    abs_height = augmented_bbox.y2 - augmented_bbox.y1\n",
    "    \n",
    "    x_center = augmented_bbox.x1 + abs_width/2\n",
    "    y_center = augmented_bbox.y1 + abs_height/2\n",
    "    \n",
    "    img_width = img.shape[1]\n",
    "    img_height = img.shape[0]    \n",
    "    \n",
    "    yolo_x = x_center / img_width\n",
    "    yolo_y = y_center / img_height\n",
    "    \n",
    "    yol_w = abs_width / img_width\n",
    "    yol_h = abs_height / img_height\n",
    "    \n",
    "    return yolo_x, yolo_y, yol_w, yol_h\n",
    "\n",
    "\n",
    "def yolo_bb_to_xy(img, txt_file):\n",
    "    \n",
    "    yolo_bboxes = []\n",
    "    \n",
    "    with open(txt_file) as f:\n",
    "        for line in f:\n",
    "            line = line.strip()\n",
    "            yolo_bboxes.append([float(x) for x in line.split(' ')[1:]])\n",
    "    \n",
    "    img_width = img.shape[1]\n",
    "    img_height = img.shape[0]\n",
    "    \n",
    "    xy_bboxes = []\n",
    "    \n",
    "    for bbox in yolo_bboxes:\n",
    "        x_center = bbox[0] * img_width\n",
    "        y_center = bbox[1] * img_height\n",
    "\n",
    "        bbox_width = bbox[2] * img_width\n",
    "        bbox_height = bbox[3] * img_height\n",
    "\n",
    "        x1 = x_center - bbox_width/2\n",
    "        y1 = y_center - bbox_height/2\n",
    "\n",
    "        x2 = x_center + bbox_width/2\n",
    "        y2 = y_center + bbox_height/2\n",
    "    \n",
    "        \n",
    "        xy_bboxes.append(ia.BoundingBox(x1=int(x1), y1=int(y1), x2=int(x2), y2=int(y2)))\n",
    "    \n",
    "    return ia.BoundingBoxesOnImage(xy_bboxes, shape=img.shape)"
   ]
  },
  {
   "cell_type": "code",
   "execution_count": 107,
   "metadata": {},
   "outputs": [
    {
     "name": "stdout",
     "output_type": "stream",
     "text": [
      "test_images/2018-10-19-222046\n",
      "test_images/1\n",
      "test_images/2018-10-19-222051\n",
      "test_images/2018-10-19-221933\n"
     ]
    }
   ],
   "source": [
    "images = []\n",
    "bboxes = []\n",
    "\n",
    "IMAGES_DIR = 'test_images/'\n",
    "\n",
    "for i in glob.glob(IMAGES_DIR + '/*.jpg'):\n",
    "    print(i.split('.')[0])\n",
    "    file_name_no_extension = i.split('.')[0]\n",
    "    \n",
    "    img = cv.imread(file_name_no_extension + '.jpg')\n",
    "    \n",
    "    bboxes.append(yolo_bb_to_xy(img, file_name_no_extension + '.txt'))\n",
    "    images.append(img)"
   ]
  },
  {
   "cell_type": "code",
   "execution_count": 138,
   "metadata": {},
   "outputs": [],
   "source": [
    "def display(img):\n",
    "    return Image.fromarray(img[:, :, ::-1])\n",
    "\n",
    "def Add():\n",
    "    print(\"add\")\n",
    "    val = randint(-45, 45)\n",
    "    seq_l.append(iaa.Add(val))\n",
    "\n",
    "def GaussianBlur():\n",
    "    print(\"blur\")\n",
    "    val = uniform(0.0, 2.0)\n",
    "    seq_l.append(iaa.GaussianBlur(val))\n",
    "\n",
    "def Hue():\n",
    "    print(\"hue\")\n",
    "    val = randint(-10,10)\n",
    "    seq_l.append(iaa.AddToHueAndSaturation(val))\n",
    "\n",
    "def Noise():\n",
    "    print('noise')\n",
    "    val1 = uniform(0.0, .04)\n",
    "    seq_l.append(iaa.AdditiveGaussianNoise(scale=val1*225))\n",
    "\n",
    "def Contrast():\n",
    "    print('contrast')\n",
    "    val1 = uniform(.2, .5)\n",
    "    val2 = uniform(.5, .9)\n",
    "    seq_l.append(iaa.ContrastNormalization(alpha=(val1, val2)))\n",
    "    \n",
    "    \n",
    "def Crop():\n",
    "    top = randint(0,10)\n",
    "    right = randint(0,10)\n",
    "    bottom = randint(0,10)\n",
    "    left = randint(0,10)\n",
    "    print(\"zoomed by: top=%d, right=%d, bottom=%d, left=%d\" %(top, right, bottom, left))\n",
    "    \n",
    "def Zoom():\n",
    "    val = uniform(1.0, 1.5)\n",
    "    print(\"zoom by: x%f\" %val)\n",
    "    seq_l.append(iaa.Affine(scale=val))\n",
    "    "
   ]
  },
  {
   "cell_type": "code",
   "execution_count": 146,
   "metadata": {},
   "outputs": [],
   "source": [
    "seq_l = []\n",
    "def augment(images, bboxs, noise=False, add=False, blur=False, hue=False, contrast=False, crop=False, zoom=False):\n",
    "    if noise:\n",
    "        Noise()\n",
    "    if add:\n",
    "        Add()\n",
    "    if blur:\n",
    "        GaussianBlur()\n",
    "    if hue:\n",
    "        Hue()\n",
    "    if contrast:\n",
    "        Contrast()\n",
    "    if crop:\n",
    "        Crop()\n",
    "    if zoom:\n",
    "        Zoom()\n",
    "    \n",
    "    seq_l.append(iaa.Fliplr(.5))\n",
    "    seq = iaa.Sequential(seq_l)\n",
    "    \n",
    "    seq_det = seq.to_deterministic()\n",
    "    \n",
    "    augmented_images = seq_det.augment_images(images)\n",
    "    augmented_bboxes = seq_det.augment_bounding_boxes(bboxs)\n",
    "    \n",
    "    print(\"amount of augmentations: \" + str(len(seq_l)))\n",
    "\n",
    "    return augmented_images, augmented_bboxes"
   ]
  },
  {
   "cell_type": "code",
   "execution_count": 147,
   "metadata": {},
   "outputs": [
    {
     "name": "stdout",
     "output_type": "stream",
     "text": [
      "noise\n",
      "add\n",
      "blur\n",
      "zoomed by: top=3, right=4, bottom=9, left=7\n",
      "zoom by: x1.275679\n",
      "amount of augmentations: 5\n"
     ]
    }
   ],
   "source": [
    "augmented_images, augmented_bboxes = augment(images, bboxes, noise=1,add=1,blur=1, zoom=1, crop=1)"
   ]
  },
  {
   "cell_type": "code",
   "execution_count": 148,
   "metadata": {},
   "outputs": [
    {
     "name": "stdout",
     "output_type": "stream",
     "text": [
      "0.8097615443686704 0.17424836341768177 0.061126292823521194 0.16536581633416333\n",
      "0.6802003802318595 0.291185619253983 0.062455125276206405 0.16300344752938964\n",
      "0.625053833445422 0.7305862169419027 0.1089642611201897 0.1535539723102945\n",
      "0.6808647964582021 0.2805549596325011 0.07441461735037341 0.18426476677235346\n",
      "0.7572726624876034 0.16361770379619983 0.07042811999231778 0.18190239796757968\n",
      "0.823049868895523 0.171885994612908 0.061126292823521194 0.188989504381901\n",
      "0.9266988002049718 0.22385810831793077 0.06644162263426204 0.1653658163341634\n",
      "0.35330759687129015 0.4553702511857595 0.0677704550869473 0.18426476677235343\n",
      "1.039649558683217 0.26992430001101914 0.07441461735037352 0.19135187318667474\n",
      "0.6908310398533414 0.30417864768023867 0.08105877961379969 0.17481529155325842\n",
      "0.6316979957088482 0.8026384654875025 0.10364893130944886 0.14646686589597327\n"
     ]
    }
   ],
   "source": [
    "AUGMENT_DIR_NAME = 'augmented_data'\n",
    "\n",
    "for img_num, data in enumerate(zip(augmented_images, augmented_bboxes)):\n",
    "    aug_img, aug_bbox = data\n",
    "    \n",
    "    fp = AUGMENT_DIR_NAME + '/aug' + str(img_num) + '.jpg'\n",
    "    cv.imwrite(fp, aug_img)\n",
    "    \n",
    "    fp = AUGMENT_DIR_NAME + '/aug' + str(img_num) + '.txt'\n",
    "\n",
    "    with open(fp, mode='w+') as f:\n",
    "        for cur_bbox in aug_bbox.bounding_boxes:\n",
    "            x, y, w, h = xy_to_yolo_bbox(aug_img, cur_bbox)\n",
    "            print(x,y, w, h)\n",
    "            f.write('0 %f %f %f %f\\n' % (x, y ,w , h))"
   ]
  }
 ],
 "metadata": {
  "kernelspec": {
   "display_name": "Python [conda env:test_env]",
   "language": "python",
   "name": "conda-env-test_env-py"
  },
  "language_info": {
   "codemirror_mode": {
    "name": "ipython",
    "version": 3
   },
   "file_extension": ".py",
   "mimetype": "text/x-python",
   "name": "python",
   "nbconvert_exporter": "python",
   "pygments_lexer": "ipython3",
   "version": "3.6.5"
  }
 },
 "nbformat": 4,
 "nbformat_minor": 2
}
